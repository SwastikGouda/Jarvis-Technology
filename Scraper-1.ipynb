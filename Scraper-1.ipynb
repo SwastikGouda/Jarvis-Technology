{
  "cells": [
    {
      "cell_type": "code",
      "execution_count": null,
      "id": "12b6eb4e",
      "metadata": {
        "id": "12b6eb4e"
      },
      "outputs": [],
      "source": [
        "import pandas as pd\n",
        "import re\n",
        "import os\n",
        "import glob\n",
        "import time\n",
        "import selenium\n",
        "import pytesseract\n",
        "import chromedriver_autoinstaller\n",
        "import tkinter\n",
        "from tkinter import messagebox\n",
        "import time\n",
        "import keyboard\n",
        "\n",
        "from selenium import webdriver\n",
        "from selenium.webdriver.common.by import By\n",
        "from selenium.webdriver.common.keys import Keys\n",
        "from selenium.webdriver.support import expected_conditions as EC\n",
        "from selenium.webdriver.support.ui import WebDriverWait\n",
        "from webdriver_manager.chrome import ChromeDriverManager\n",
        "from selenium.webdriver import ChromeOptions\n",
        "from msedge.selenium_tools import Edge, EdgeOptions\n",
        "from webdriver_manager.microsoft import EdgeChromiumDriverManager\n",
        "from webdriver_manager.firefox import GeckoDriverManager\n",
        "from webdriver_manager.opera import OperaDriverManager\n",
        "from selenium.common.exceptions import TimeoutException\n",
        "from selenium.webdriver.common.action_chains import ActionChains\n",
        "\n",
        "import pyautogui as py\n",
        "from zipfile import ZipFile\n",
        "import datetime\n",
        "from datetime import timedelta\n",
        "from datetime import date\n",
        "import base64\n",
        "\n",
        "\n",
        "from PIL import Image\n",
        "from io import BytesIO\n",
        "import io\n",
        "\n",
        "\n",
        "#pytesseract.pytesseract.tesseract_cmd = r\"C:\\Program Files\\Tesseract-OCR\\tesseract.exe\"\n",
        "\n",
        "import pytesseract\n",
        "\n",
        "import warnings\n",
        "warnings.filterwarnings('ignore')"
      ]
    },
    {
      "cell_type": "code",
      "execution_count": null,
      "id": "a642603c",
      "metadata": {
        "id": "a642603c"
      },
      "outputs": [],
      "source": [
        "df1=pd.read_excel(r\"C:\\Users\\swast\\Downloads\\Person Epic ID.xlsx\")"
      ]
    },
    {
      "cell_type": "code",
      "execution_count": null,
      "id": "c4c96104",
      "metadata": {
        "id": "c4c96104"
      },
      "outputs": [],
      "source": [
        "driver = webdriver.Chrome(r\"C:\\Users\\swast\\Downloads\\chromedriver-win64\\chromedriver-win64\\chromedriver.exe\")\n",
        "driver.get('https://electoralsearch.eci.gov.in/')"
      ]
    },
    {
      "cell_type": "code",
      "execution_count": null,
      "id": "5d774ef2",
      "metadata": {
        "id": "5d774ef2"
      },
      "outputs": [],
      "source": [
        "columns = [\"S. NO.\", \"Epic Number\", \"Name\", \"Age\", \"Relative Name\", \"State\", \"District\", \"Assembly Constituency\", \"Part\", \"Polling Station\", \"Part Serial Number\", \"Action\"]\n",
        "df = pd.DataFrame(data, columns=columns)"
      ]
    },
    {
      "cell_type": "code",
      "execution_count": null,
      "id": "646aa75e",
      "metadata": {
        "scrolled": true,
        "id": "646aa75e"
      },
      "outputs": [],
      "source": [
        "driver.find_element(By.XPATH,'//*[@id=\"epic\"]').click()\n",
        "time.sleep(2)\n",
        "for i in df1['Person Voter Id'].unique():\n",
        "    driver.find_element(By.XPATH,'//*[@id=\"epicID\"]').send_keys(i)\n",
        "    time.sleep(1)\n",
        "    driver.find_element(By.XPATH,'//*[@id=\"root\"]/div[2]/div/div[3]/div[2]/div[2]/div[1]/div[2]/div[2]/div/select').send_keys('Madhya Pradesh')\n",
        "    time.sleep(1)\n",
        "\n",
        "    #Captcha Reading\n",
        "    image_element = driver.find_element(By.XPATH,'//*[@id=\"root\"]/div[2]/div/div[3]/div[3]/div[1]/div/div[1]/div/img').get_attribute(\"src\").split(\",\")[-1]\n",
        "    image_bytes = io.BytesIO(base64.b64decode(image_element))\n",
        "    image = Image.open(image_bytes)\n",
        "    sharpened_image = image.filter(ImageFilter.SHARPEN)\n",
        "    cv_image = np.array(sharpened_image)\n",
        "    gray_image = cv2.cvtColor(cv_image, cv2.COLOR_RGB2GRAY)\n",
        "    gray_image_float = gray_image.astype(np.float32) / 255.0\n",
        "    denoised_image = np.uint8(gray_image_float * 255.0)\n",
        "    preprocessed_image = Image.fromarray(denoised_image)\n",
        "    text = pytesseract.image_to_string(preprocessed_image).replace('\\n','')\n",
        "\n",
        "    driver.find_element(By.XPATH,'//*[@id=\"root\"]/div[2]/div/div[3]/div[3]/div[1]/div/div[2]/div[2]/div/input').send_keys(text)\n",
        "    time.sleep(2)\n",
        "    driver.find_element(By.XPATH,'//*[@id=\"root\"]/div[2]/div/div[3]/div[3]/div[2]/button[1]').click()\n",
        "\n",
        "    while True:\n",
        "        try:\n",
        "            driver.find_element(By.XPATH,'/html/body/div/div[2]/div/div[4]/table')\n",
        "            break\n",
        "        except:\n",
        "            driver.refresh()\n",
        "            #print('Captcha Error')\n",
        "            time.sleep(10)\n",
        "\n",
        "            driver.find_element(By.XPATH,'//*[@id=\"epic\"]').click()\n",
        "            time.sleep(1)\n",
        "            driver.find_element(By.XPATH,'//*[@id=\"epicID\"]').send_keys(i)\n",
        "            time.sleep(1)\n",
        "            driver.find_element(By.XPATH,'//*[@id=\"root\"]/div[2]/div/div[3]/div[2]/div[2]/div[1]/div[2]/div[2]/div/select').send_keys('Madhya Pradesh')\n",
        "            time.sleep(1)\n",
        "\n",
        "            image_element = driver.find_element(By.XPATH,'//*[@id=\"root\"]/div[2]/div/div[3]/div[3]/div[1]/div/div[1]/div/img').get_attribute(\"src\").split(\",\")[-1]\n",
        "            image_bytes = io.BytesIO(base64.b64decode(image_element))\n",
        "            image = Image.open(image_bytes)\n",
        "            sharpened_image = image.filter(ImageFilter.SHARPEN)\n",
        "            cv_image = np.array(sharpened_image)\n",
        "            gray_image = cv2.cvtColor(cv_image, cv2.COLOR_RGB2GRAY)\n",
        "            gray_image_float = gray_image.astype(np.float32) / 255.0\n",
        "            denoised_image = np.uint8(gray_image_float * 255.0)\n",
        "            preprocessed_image = Image.fromarray(denoised_image)\n",
        "            text = pytesseract.image_to_string(preprocessed_image).replace('\\n','')\n",
        "            driver.find_element(By.XPATH,'//*[@id=\"root\"]/div[2]/div/div[3]/div[3]/div[1]/div/div[2]/div[2]/div/input').send_keys(text)\n",
        "            time.sleep(2)\n",
        "            driver.find_element(By.XPATH,'//*[@id=\"root\"]/div[2]/div/div[3]/div[3]/div[2]/button[1]').click()\n",
        "            time.sleep(2)\n",
        "\n",
        "    table = driver.find_element_by_id(\"table-id\")\n",
        "    rows = table.find_elements_by_tag_name(\"tr\")\n",
        "    data = []\n",
        "\n",
        "    # Iterate through rows and extract data\n",
        "    for row in rows[1:]:  # Skip the header row\n",
        "        cells = row.find_elements_by_tag_name(\"td\")\n",
        "        row_data = [cell.text for cell in cells]\n",
        "        data.append(row_data)\n",
        "\n",
        "    for j in data:\n",
        "        df.loc[len(df)]=j\n",
        "    df.drop_duplicates(inplace=True)\n",
        "    driver.find_element(By.XPATH,'//*[@id=\"epicID\"]').clear()\n",
        "    driver.find_element(By.XPATH,'//*[@id=\"root\"]/div[2]/div/div[3]/div[3]/div[1]/div/div[2]/div[2]/div/input').clear()\n",
        ""
      ]
    }
  ],
  "metadata": {
    "kernelspec": {
      "display_name": "Python 3 (ipykernel)",
      "language": "python",
      "name": "python3"
    },
    "language_info": {
      "codemirror_mode": {
        "name": "ipython",
        "version": 3
      },
      "file_extension": ".py",
      "mimetype": "text/x-python",
      "name": "python",
      "nbconvert_exporter": "python",
      "pygments_lexer": "ipython3",
      "version": "3.9.16"
    },
    "colab": {
      "provenance": []
    }
  },
  "nbformat": 4,
  "nbformat_minor": 5
}