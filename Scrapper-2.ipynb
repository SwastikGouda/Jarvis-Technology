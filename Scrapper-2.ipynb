{
  "cells": [
    {
      "cell_type": "code",
      "execution_count": null,
      "id": "9b7497ad",
      "metadata": {
        "id": "9b7497ad"
      },
      "outputs": [],
      "source": [
        "import requests\n",
        "import urllib.request\n",
        "from selenium import webdriver\n",
        "from selenium.webdriver.support.ui import Select\n",
        "from selenium.webdriver.support.ui import WebDriverWait\n",
        "from selenium.common.exceptions import StaleElementReferenceException\n",
        "from selenium.webdriver.common.keys import Keys\n",
        "from selenium.webdriver.support import expected_conditions as EC\n",
        "from selenium.webdriver.common.by import By\n",
        "import time\n",
        "import os\n",
        "import re\n",
        "import sys\n",
        "import pydub\n",
        "import speech_recognition as sr\n",
        "# import pyautogui\n",
        "import math\n",
        "import warnings\n",
        "warnings.filterwarnings('ignore')\n",
        "from selenium.webdriver.common.action_chains import ActionChains"
      ]
    },
    {
      "cell_type": "code",
      "execution_count": null,
      "id": "8020e852",
      "metadata": {
        "id": "8020e852"
      },
      "outputs": [],
      "source": [
        "driver = webdriver.Chrome(r\"C:\\Upsilonsers\\swast\\Downloads\\chromedriver_win32\\chromedriver.exe\")\n",
        "driver.get('http://www.ceo.kerala.gov.in/electoralrolls.html')\n",
        "driver.maximize_window()"
      ]
    },
    {
      "cell_type": "code",
      "execution_count": null,
      "id": "8f578e57",
      "metadata": {
        "id": "8f578e57"
      },
      "outputs": [],
      "source": [
        "def delay(driver,waiting_time=4):\n",
        "    driver.implicitly_wait(waiting_time)"
      ]
    },
    {
      "cell_type": "code",
      "execution_count": null,
      "id": "26a31474",
      "metadata": {
        "id": "26a31474"
      },
      "outputs": [],
      "source": [
        "l1=[]\n",
        "l2=[]\n",
        "for i in range (1,140):\n",
        "    j=1\n",
        "    while(j>0):\n",
        "        l1.append(i)\n",
        "        l2.append(j)\n",
        "        driver.get('http://www.ceo.kerala.gov.in/pdf/voterslist/2023/FINAL/ML/AC00%s/S11A%sP%s.pdf'%(i,i,j))\n",
        "        b_text = driver.find_element(\"xpath\",'/html/body/div[2]/div[3]/form/table/tbody/tr[3]/td').text\n",
        "        j+=1\n",
        "        if(b_text==''):\n",
        "            break\n",
        "        else:\n",
        "            frames = driver.find_elements(By.TAG_NAME,'iframe')\n",
        "            recaptcha_control_frame = None\n",
        "            recaptcha_challenge_frame = None\n",
        "            for index, frame in enumerate(frames):\n",
        "                if re.search('reCAPTCHA', frame.get_attribute(\"title\")):\n",
        "                    recaptcha_control_frame = frame\n",
        "\n",
        "                if re.search('recaptcha challenge', frame.get_attribute(\"title\")):\n",
        "                    recaptcha_challenge_frame = frame\n",
        "            if not (recaptcha_control_frame and recaptcha_challenge_frame):\n",
        "                print(\"[ERR] Unable to find recaptcha. Abort solver.\")\n",
        "#             sys.exit()\n",
        "            # switch to recaptcha frame\n",
        "            #                 time.sleep(1)\n",
        "            frames = driver.find_elements(By.TAG_NAME,'iframe')\n",
        "            driver.switch_to.frame(recaptcha_control_frame)\n",
        "            # click on checkbox to activate recaptcha\n",
        "            driver.find_element(By.CLASS_NAME,\"recaptcha-checkbox-border\").click()\n",
        "            #pyautogui.click(530, 950)\n",
        "\n",
        "#             try:\n",
        "            time.sleep(1)\n",
        "            #print('hello1')\n",
        "            try:\n",
        "                driver.switch_to.default_content()\n",
        "                frames = driver.find_elements(By.TAG_NAME,'iframe')\n",
        "                driver.switch_to.frame(recaptcha_challenge_frame)\n",
        "\n",
        "                # click on audio challenge\n",
        "                time.sleep(2)\n",
        "                driver.find_element(By.ID,\"recaptcha-audio-button\").click()\n",
        "\n",
        "                # switch to recaptcha audio challenge frame\n",
        "                driver.switch_to.default_content()\n",
        "                #                     time.sleep(1)\n",
        "                frames = driver.find_elements(By.TAG_NAME,'iframe')\n",
        "                driver.switch_to.frame(recaptcha_challenge_frame)\n",
        "\n",
        "                # get the mp3 audio file\n",
        "                delay(driver)\n",
        "                src = driver.find_element(By.ID,\"audio-source\").get_attribute(\"src\")\n",
        "                #print(f\"[INFO] Audio src: {src}\")\n",
        "\n",
        "                path_to_mp3 = os.path.normpath(os.path.join(os.getcwd(), \"sample.mp3\"))\n",
        "                path_to_wav = os.path.normpath(os.path.join(os.getcwd(), \"sample.wav\"))\n",
        "\n",
        "                # download the mp3 audio file from the source\n",
        "                urllib.request.urlretrieve(src, path_to_mp3)\n",
        "                time.sleep(1)\n",
        "\n",
        "            # load downloaded mp3 audio file as .wav\n",
        "    #                 try:\n",
        "                sound = pydub.AudioSegment.from_mp3(path_to_mp3)\n",
        "                sound.export(path_to_wav, format=\"wav\")\n",
        "                sample_audio = sr.AudioFile(path_to_wav)\n",
        "    #                 except Exception:\n",
        "    #                     sys.exit(\n",
        "    #                         \"[ERR] Please run program as administrator or download ffmpeg manually, \"\n",
        "    #                         \"https://blog.gregzaal.com/how-to-install-ffmpeg-on-windows/\"\n",
        "    #                     )\n",
        "\n",
        "            # translate audio to text with google voice recognition\n",
        "                delay(driver)\n",
        "                r = sr.Recognizer()\n",
        "                with sample_audio as source:\n",
        "                    audio = r.record(source)\n",
        "                key = r.recognize_google(audio,language='en-IN')\n",
        "                #print(f\"[INFO] Recaptcha Passcode: {key}\")\n",
        "\n",
        "                # key in results and submit\n",
        "                delay(driver)\n",
        "                driver.find_element(By.ID,\"audio-response\").send_keys(key.lower())\n",
        "                driver.find_element(By.ID,\"audio-response\").send_keys(Keys.ENTER)\n",
        "                time.sleep(2)\n",
        "                driver.switch_to.default_content()\n",
        "                time.sleep(2)\n",
        "                down=driver.find_element(\"xpath\",\"/html/body/div[2]/div[3]/form/table/tbody/tr[5]/td/input\")\n",
        "                down.click()\n",
        "                time.sleep(1)\n",
        "            except:\n",
        "                down=driver.find_element(\"xpath\",\"/html/body/div[2]/div[3]/form/table/tbody/tr[5]/td/input\")\n",
        "                down.click()\n",
        "                time.sleep(1)\n",
        "#             except:\n",
        "#                 print('lol')\n",
        "#                 try:\n",
        "#                     driver.switch_to.default_content()\n",
        "#                     down=driver.find_element(\"xpath\",\"/html/body/div[2]/div[3]/form/table/tbody/tr[5]/td/input\")\n",
        "#                     down.click()\n",
        "#                     time.sleep(1)\n",
        "#                 except:\n",
        "#                     raise e\n",
        "#                     pass"
      ]
    },
    {
      "cell_type": "code",
      "execution_count": null,
      "id": "bbc0b81e",
      "metadata": {
        "id": "bbc0b81e"
      },
      "outputs": [],
      "source": [
        "key"
      ]
    },
    {
      "cell_type": "code",
      "execution_count": null,
      "id": "4255b5bd",
      "metadata": {
        "id": "4255b5bd"
      },
      "outputs": [],
      "source": [
        "l2"
      ]
    },
    {
      "cell_type": "code",
      "execution_count": null,
      "id": "50a69f75",
      "metadata": {
        "id": "50a69f75"
      },
      "outputs": [],
      "source": [
        "b_text"
      ]
    },
    {
      "cell_type": "code",
      "execution_count": null,
      "id": "315d2c4b",
      "metadata": {
        "id": "315d2c4b"
      },
      "outputs": [],
      "source": [
        "sample_audio = sr.AudioFile(r\"C:\\Users\\swast\\Downloads\\audio (1).wav\")\n",
        "delay(driver)\n",
        "r = sr.Recognizer()\n",
        "with sample_audio as source:\n",
        "    audio = r.record(source)\n",
        "key = r.recognize_google(audio,language='en-IN')"
      ]
    },
    {
      "cell_type": "code",
      "execution_count": null,
      "id": "f95e2afe",
      "metadata": {
        "id": "f95e2afe"
      },
      "outputs": [],
      "source": []
    }
  ],
  "metadata": {
    "kernelspec": {
      "display_name": "Python 3 (ipykernel)",
      "language": "python",
      "name": "python3"
    },
    "language_info": {
      "codemirror_mode": {
        "name": "ipython",
        "version": 3
      },
      "file_extension": ".py",
      "mimetype": "text/x-python",
      "name": "python",
      "nbconvert_exporter": "python",
      "pygments_lexer": "ipython3",
      "version": "3.9.16"
    },
    "colab": {
      "provenance": []
    }
  },
  "nbformat": 4,
  "nbformat_minor": 5
}