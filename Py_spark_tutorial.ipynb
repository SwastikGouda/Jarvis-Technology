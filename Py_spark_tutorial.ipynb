{
  "cells": [
    {
      "cell_type": "code",
      "execution_count": null,
      "id": "c13a1df3",
      "metadata": {
        "id": "c13a1df3"
      },
      "outputs": [],
      "source": [
        "# pip install pyspark"
      ]
    },
    {
      "cell_type": "code",
      "execution_count": null,
      "id": "c926d7e4",
      "metadata": {
        "id": "c926d7e4"
      },
      "outputs": [],
      "source": [
        "import pyspark as sp"
      ]
    },
    {
      "cell_type": "code",
      "execution_count": null,
      "id": "e8fb8093",
      "metadata": {
        "id": "e8fb8093"
      },
      "outputs": [],
      "source": [
        "from pyspark.sql import SparkSession"
      ]
    },
    {
      "cell_type": "code",
      "execution_count": null,
      "id": "521253c0",
      "metadata": {
        "id": "521253c0"
      },
      "outputs": [],
      "source": [
        "spark=SparkSession.builder.appName('Practise').getOrCreate()"
      ]
    },
    {
      "cell_type": "code",
      "execution_count": null,
      "id": "8376bcf0",
      "metadata": {
        "id": "8376bcf0",
        "outputId": "33d50710-7e3d-4f06-9abe-2062c948ef65"
      },
      "outputs": [
        {
          "data": {
            "text/html": [
              "\n",
              "            <div>\n",
              "                <p><b>SparkSession - in-memory</b></p>\n",
              "                \n",
              "        <div>\n",
              "            <p><b>SparkContext</b></p>\n",
              "\n",
              "            <p><a href=\"http://Swastik:4040\">Spark UI</a></p>\n",
              "\n",
              "            <dl>\n",
              "              <dt>Version</dt>\n",
              "                <dd><code>v3.4.1</code></dd>\n",
              "              <dt>Master</dt>\n",
              "                <dd><code>local[*]</code></dd>\n",
              "              <dt>AppName</dt>\n",
              "                <dd><code>Practise</code></dd>\n",
              "            </dl>\n",
              "        </div>\n",
              "        \n",
              "            </div>\n",
              "        "
            ],
            "text/plain": [
              "<pyspark.sql.session.SparkSession at 0x1d8cb3896a0>"
            ]
          },
          "execution_count": 5,
          "metadata": {},
          "output_type": "execute_result"
        }
      ],
      "source": [
        "spark"
      ]
    },
    {
      "cell_type": "code",
      "execution_count": null,
      "id": "2f9a7665",
      "metadata": {
        "id": "2f9a7665"
      },
      "outputs": [],
      "source": [
        "df=spark.read.option('header','true').csv(r\"C:\\Users\\swast\\Downloads\\test1.csv\",inferSchema=True)"
      ]
    },
    {
      "cell_type": "code",
      "execution_count": null,
      "id": "d88528ce",
      "metadata": {
        "id": "d88528ce",
        "outputId": "52ab1bc4-6486-4c90-cd85-7a0f4a9fccad"
      },
      "outputs": [
        {
          "name": "stdout",
          "output_type": "stream",
          "text": [
            "+---------+---+----------+------+\n",
            "|     Name|age|Experience|Salary|\n",
            "+---------+---+----------+------+\n",
            "|    Krish| 31|        10| 30000|\n",
            "|Sudhanshu| 30|         8| 25000|\n",
            "|    Sunny| 29|         4| 20000|\n",
            "|     Paul| 24|         3| 20000|\n",
            "|   Harsha| 21|         1| 15000|\n",
            "|  Shubham| 23|         2| 18000|\n",
            "+---------+---+----------+------+\n",
            "\n"
          ]
        }
      ],
      "source": [
        "df.show()"
      ]
    },
    {
      "cell_type": "code",
      "execution_count": null,
      "id": "11ceacda",
      "metadata": {
        "id": "11ceacda",
        "outputId": "00859542-281a-44d0-9737-efbd73ed2b2b"
      },
      "outputs": [
        {
          "name": "stdout",
          "output_type": "stream",
          "text": [
            "root\n",
            " |-- Name: string (nullable = true)\n",
            " |-- age: integer (nullable = true)\n",
            " |-- Experience: integer (nullable = true)\n",
            " |-- Salary: integer (nullable = true)\n",
            "\n"
          ]
        }
      ],
      "source": [
        "df.printSchema()"
      ]
    },
    {
      "cell_type": "code",
      "execution_count": null,
      "id": "7a342bb9",
      "metadata": {
        "id": "7a342bb9"
      },
      "outputs": [],
      "source": [
        "df1=spark.read.csv(r\"C:\\Users\\swast\\Downloads\\test1.csv\")"
      ]
    },
    {
      "cell_type": "code",
      "execution_count": null,
      "id": "9c8e6a0e",
      "metadata": {
        "scrolled": true,
        "id": "9c8e6a0e",
        "outputId": "9d46cf05-d838-4b87-891e-a8d002d1b305"
      },
      "outputs": [
        {
          "name": "stdout",
          "output_type": "stream",
          "text": [
            "+-------+------+------------------+-----------------+------------------+\n",
            "|summary|  Name|               age|       Experience|            Salary|\n",
            "+-------+------+------------------+-----------------+------------------+\n",
            "|  count|     6|                 6|                6|                 6|\n",
            "|   mean|  null|26.333333333333332|4.666666666666667|21333.333333333332|\n",
            "| stddev|  null| 4.179314138308661|3.559026084010437| 5354.126134736337|\n",
            "|    min|Harsha|                21|                1|             15000|\n",
            "|    max| Sunny|                31|               10|             30000|\n",
            "+-------+------+------------------+-----------------+------------------+\n",
            "\n"
          ]
        }
      ],
      "source": [
        "df.describe().show()"
      ]
    },
    {
      "cell_type": "code",
      "execution_count": null,
      "id": "88d5a2c9",
      "metadata": {
        "id": "88d5a2c9",
        "outputId": "7eb72eda-5776-4a3d-c7c2-07e98a9b8cb2"
      },
      "outputs": [
        {
          "name": "stdout",
          "output_type": "stream",
          "text": [
            "+---------+---+----------+------+------------------------+\n",
            "|     Name|age|Experience|Salary|Experience after 2 years|\n",
            "+---------+---+----------+------+------------------------+\n",
            "|    Krish| 31|        10| 30000|                      12|\n",
            "|Sudhanshu| 30|         8| 25000|                      10|\n",
            "|    Sunny| 29|         4| 20000|                       6|\n",
            "|     Paul| 24|         3| 20000|                       5|\n",
            "|   Harsha| 21|         1| 15000|                       3|\n",
            "|  Shubham| 23|         2| 18000|                       4|\n",
            "+---------+---+----------+------+------------------------+\n",
            "\n"
          ]
        }
      ],
      "source": [
        "df.withColumn('Experience after 2 years',df['Experience']+2).show()"
      ]
    },
    {
      "cell_type": "code",
      "execution_count": null,
      "id": "8935f68a",
      "metadata": {
        "id": "8935f68a",
        "outputId": "2268aff6-5f8d-4c0a-9528-f966204ed624"
      },
      "outputs": [
        {
          "name": "stdout",
          "output_type": "stream",
          "text": [
            "+---------+---+----------+------+\n",
            "|     Name|age|Experience|Salary|\n",
            "+---------+---+----------+------+\n",
            "|    Krish| 31|        10| 30000|\n",
            "|Sudhanshu| 30|         8| 25000|\n",
            "|    Sunny| 29|         4| 20000|\n",
            "|     Paul| 24|         3| 20000|\n",
            "|   Harsha| 21|         1| 15000|\n",
            "|  Shubham| 23|         2| 18000|\n",
            "+---------+---+----------+------+\n",
            "\n"
          ]
        }
      ],
      "source": [
        "df.drop('Experience after 2 years').show()"
      ]
    },
    {
      "cell_type": "code",
      "execution_count": null,
      "id": "813787c2",
      "metadata": {
        "id": "813787c2",
        "outputId": "69630851-2ae7-422c-9ba5-737a7ef44a99"
      },
      "outputs": [
        {
          "name": "stdout",
          "output_type": "stream",
          "text": [
            "+---------+---+----------+------+\n",
            "|  Renamed|age|Experience|Salary|\n",
            "+---------+---+----------+------+\n",
            "|    Krish| 31|        10| 30000|\n",
            "|Sudhanshu| 30|         8| 25000|\n",
            "|    Sunny| 29|         4| 20000|\n",
            "|     Paul| 24|         3| 20000|\n",
            "|   Harsha| 21|         1| 15000|\n",
            "|  Shubham| 23|         2| 18000|\n",
            "+---------+---+----------+------+\n",
            "\n"
          ]
        }
      ],
      "source": [
        "df.withColumnRenamed('Name','Renamed').show()"
      ]
    },
    {
      "cell_type": "code",
      "execution_count": null,
      "id": "a025548b",
      "metadata": {
        "id": "a025548b"
      },
      "outputs": [],
      "source": [
        "df=spark.read.option('header','true').csv(r\"C:\\Users\\swast\\Downloads\\test2.csv\")"
      ]
    },
    {
      "cell_type": "code",
      "execution_count": null,
      "id": "f8e474bb",
      "metadata": {
        "id": "f8e474bb",
        "outputId": "a86c0c49-6b4e-4fea-d2e8-67e441e8b7e5"
      },
      "outputs": [
        {
          "name": "stdout",
          "output_type": "stream",
          "text": [
            "+---------+---+----------+------+\n",
            "|     Name|age|Experience|Salary|\n",
            "+---------+---+----------+------+\n",
            "|    Krish| 31|        10| 30000|\n",
            "|Sudhanshu| 30|         8| 25000|\n",
            "|    Sunny| 29|         4| 20000|\n",
            "|     Paul| 24|         3| 20000|\n",
            "|   Harsha| 21|         1| 15000|\n",
            "|  Shubham| 23|         2| 18000|\n",
            "+---------+---+----------+------+\n",
            "\n"
          ]
        }
      ],
      "source": [
        "df.na.drop(how='any').show()"
      ]
    },
    {
      "cell_type": "code",
      "execution_count": null,
      "id": "a0883300",
      "metadata": {
        "id": "a0883300"
      },
      "outputs": [],
      "source": [
        "from pyspark.ml.feature import Imputer"
      ]
    },
    {
      "cell_type": "code",
      "execution_count": null,
      "id": "13a14491",
      "metadata": {
        "id": "13a14491"
      },
      "outputs": [],
      "source": [
        "df=spark.read.csv(r\"C:\\Users\\swast\\Downloads\\test1.csv\",header=True)"
      ]
    },
    {
      "cell_type": "code",
      "execution_count": null,
      "id": "ea639dcb",
      "metadata": {
        "id": "ea639dcb",
        "outputId": "282bb229-486f-47e0-ed60-f8e115beb8c7"
      },
      "outputs": [
        {
          "name": "stdout",
          "output_type": "stream",
          "text": [
            "+---------+---+----------+------+\n",
            "|     Name|age|Experience|Salary|\n",
            "+---------+---+----------+------+\n",
            "|    Krish| 31|        10| 30000|\n",
            "|Sudhanshu| 30|         8| 25000|\n",
            "|    Sunny| 29|         4| 20000|\n",
            "|     Paul| 24|         3| 20000|\n",
            "|   Harsha| 21|         1| 15000|\n",
            "|  Shubham| 23|         2| 18000|\n",
            "+---------+---+----------+------+\n",
            "\n"
          ]
        }
      ],
      "source": [
        "df.show()"
      ]
    },
    {
      "cell_type": "code",
      "execution_count": null,
      "id": "aad33198",
      "metadata": {
        "id": "aad33198",
        "outputId": "88ad2cf8-6cfa-42b3-f073-e321c7c7ecfe"
      },
      "outputs": [
        {
          "name": "stdout",
          "output_type": "stream",
          "text": [
            "+---------+---+----------+------+\n",
            "|     Name|age|Experience|Salary|\n",
            "+---------+---+----------+------+\n",
            "|    Krish| 31|        10| 30000|\n",
            "|Sudhanshu| 30|         8| 25000|\n",
            "+---------+---+----------+------+\n",
            "\n"
          ]
        }
      ],
      "source": [
        "df.filter(~(df['Salary']<=20000)).show()"
      ]
    },
    {
      "cell_type": "code",
      "execution_count": null,
      "id": "c605fa2f",
      "metadata": {
        "id": "c605fa2f"
      },
      "outputs": [],
      "source": [
        "df=spark.read.csv(r\"C:\\Users\\swast\\Downloads\\test3.csv\",inferSchema=True,header=True)"
      ]
    },
    {
      "cell_type": "code",
      "execution_count": null,
      "id": "4772a040",
      "metadata": {
        "id": "4772a040",
        "outputId": "44a2e24d-c9d0-460c-9d5c-feb90769e6d4"
      },
      "outputs": [
        {
          "name": "stdout",
          "output_type": "stream",
          "text": [
            "+---------+------------+------+\n",
            "|     Name| Departments|salary|\n",
            "+---------+------------+------+\n",
            "|    Krish|Data Science| 10000|\n",
            "|    Krish|         IOT|  5000|\n",
            "|   Mahesh|    Big Data|  4000|\n",
            "|    Krish|    Big Data|  4000|\n",
            "|   Mahesh|Data Science|  3000|\n",
            "|Sudhanshu|Data Science| 20000|\n",
            "|Sudhanshu|         IOT| 10000|\n",
            "|Sudhanshu|    Big Data|  5000|\n",
            "|    Sunny|Data Science| 10000|\n",
            "|    Sunny|    Big Data|  2000|\n",
            "+---------+------------+------+\n",
            "\n"
          ]
        }
      ],
      "source": [
        "df.show()"
      ]
    },
    {
      "cell_type": "code",
      "execution_count": null,
      "id": "8b1ab318",
      "metadata": {
        "id": "8b1ab318",
        "outputId": "c18ffbbb-3219-4842-858c-e37f56179750"
      },
      "outputs": [
        {
          "name": "stdout",
          "output_type": "stream",
          "text": [
            "+------------+-----+\n",
            "| Departments|count|\n",
            "+------------+-----+\n",
            "|         IOT|    2|\n",
            "|    Big Data|    4|\n",
            "|Data Science|    4|\n",
            "+------------+-----+\n",
            "\n"
          ]
        }
      ],
      "source": [
        "df.groupBy('Departments').count().show()"
      ]
    },
    {
      "cell_type": "code",
      "execution_count": null,
      "id": "715e8ea0",
      "metadata": {
        "id": "715e8ea0",
        "outputId": "5f0fb0cd-fcf9-41e9-a400-92677b0410ad"
      },
      "outputs": [
        {
          "name": "stdout",
          "output_type": "stream",
          "text": [
            "+---------+------------+------+\n",
            "|     Name| Departments|salary|\n",
            "+---------+------------+------+\n",
            "|    Krish|Data Science| 10000|\n",
            "|    Krish|         IOT|  5000|\n",
            "|   Mahesh|    Big Data|  4000|\n",
            "|    Krish|    Big Data|  4000|\n",
            "|   Mahesh|Data Science|  3000|\n",
            "|Sudhanshu|Data Science| 20000|\n",
            "|Sudhanshu|         IOT| 10000|\n",
            "|Sudhanshu|    Big Data|  5000|\n",
            "|    Sunny|Data Science| 10000|\n",
            "|    Sunny|    Big Data|  2000|\n",
            "+---------+------------+------+\n",
            "\n"
          ]
        }
      ],
      "source": [
        "df.show()"
      ]
    },
    {
      "cell_type": "code",
      "execution_count": null,
      "id": "7e711f26",
      "metadata": {
        "id": "7e711f26"
      },
      "outputs": [],
      "source": [
        "training = spark.read.csv(r\"C:\\Users\\swast\\Downloads\\test1.csv\",header=True,inferSchema=True)"
      ]
    },
    {
      "cell_type": "code",
      "execution_count": null,
      "id": "bc62a97f",
      "metadata": {
        "id": "bc62a97f",
        "outputId": "59a41530-a8f0-440f-c8cd-af9b09e5138b"
      },
      "outputs": [
        {
          "data": {
            "text/plain": [
              "['Name', 'age', 'Experience', 'Salary']"
            ]
          },
          "execution_count": 109,
          "metadata": {},
          "output_type": "execute_result"
        }
      ],
      "source": [
        "training.columns"
      ]
    },
    {
      "cell_type": "code",
      "execution_count": null,
      "id": "53c6c47e",
      "metadata": {
        "id": "53c6c47e"
      },
      "outputs": [],
      "source": [
        "from pyspark.ml.feature import VectorAssembler"
      ]
    },
    {
      "cell_type": "code",
      "execution_count": null,
      "id": "4a788a9b",
      "metadata": {
        "id": "4a788a9b"
      },
      "outputs": [],
      "source": [
        "featureassembler=VectorAssembler(inputCols=[\"age\",\"Experience\"],outputCol=\"Independent Features\")"
      ]
    },
    {
      "cell_type": "code",
      "execution_count": null,
      "id": "eddbb106",
      "metadata": {
        "id": "eddbb106",
        "outputId": "c66df201-cc74-4668-b654-150447c6a41b"
      },
      "outputs": [
        {
          "name": "stdout",
          "output_type": "stream",
          "text": [
            "+---------+---+----------+------+--------------------+\n",
            "|     Name|age|Experience|Salary|Independent Features|\n",
            "+---------+---+----------+------+--------------------+\n",
            "|    Krish| 31|        10| 30000|         [31.0,10.0]|\n",
            "|Sudhanshu| 30|         8| 25000|          [30.0,8.0]|\n",
            "|    Sunny| 29|         4| 20000|          [29.0,4.0]|\n",
            "|     Paul| 24|         3| 20000|          [24.0,3.0]|\n",
            "|   Harsha| 21|         1| 15000|          [21.0,1.0]|\n",
            "|  Shubham| 23|         2| 18000|          [23.0,2.0]|\n",
            "+---------+---+----------+------+--------------------+\n",
            "\n"
          ]
        }
      ],
      "source": [
        "output=featureassembler.transform(training)\n",
        "output.show()"
      ]
    },
    {
      "cell_type": "code",
      "execution_count": null,
      "id": "566430d3",
      "metadata": {
        "id": "566430d3"
      },
      "outputs": [],
      "source": [
        "finalize_data=output.select(['Independent Features','Salary'])"
      ]
    },
    {
      "cell_type": "code",
      "execution_count": null,
      "id": "b8494b68",
      "metadata": {
        "id": "b8494b68",
        "outputId": "589620d3-df44-4dab-ed7b-e5d7e8376ff7"
      },
      "outputs": [
        {
          "name": "stdout",
          "output_type": "stream",
          "text": [
            "+--------------------+------+\n",
            "|Independent Features|Salary|\n",
            "+--------------------+------+\n",
            "|         [31.0,10.0]| 30000|\n",
            "|          [30.0,8.0]| 25000|\n",
            "|          [29.0,4.0]| 20000|\n",
            "|          [24.0,3.0]| 20000|\n",
            "|          [21.0,1.0]| 15000|\n",
            "|          [23.0,2.0]| 18000|\n",
            "+--------------------+------+\n",
            "\n"
          ]
        }
      ],
      "source": [
        "finalize_data.show()"
      ]
    },
    {
      "cell_type": "code",
      "execution_count": null,
      "id": "57d24a33",
      "metadata": {
        "id": "57d24a33"
      },
      "outputs": [],
      "source": [
        "from pyspark.ml.regression import LinearRegression\n",
        "train_data,test_data=finalize_data.randomSplit([0.75,0.25])\n",
        "regressor=LinearRegression(featuresCol='Independent Features', labelCol='Salary')\n",
        "regressor=regressor.fit(train_data)"
      ]
    },
    {
      "cell_type": "code",
      "execution_count": null,
      "id": "d3fd34fa",
      "metadata": {
        "id": "d3fd34fa",
        "outputId": "8dad9cd3-1bba-472c-9cfe-9f74180d4ec8"
      },
      "outputs": [
        {
          "data": {
            "text/plain": [
              "DenseVector([1771.9298, -298.2456])"
            ]
          },
          "execution_count": 123,
          "metadata": {},
          "output_type": "execute_result"
        }
      ],
      "source": [
        "regressor.coefficients"
      ]
    },
    {
      "cell_type": "code",
      "execution_count": null,
      "id": "a9cb82dc",
      "metadata": {
        "id": "a9cb82dc",
        "outputId": "1c237b49-ce7b-4485-d659-69ff559269fb"
      },
      "outputs": [
        {
          "data": {
            "text/plain": [
              "-21912.28070175451"
            ]
          },
          "execution_count": 124,
          "metadata": {},
          "output_type": "execute_result"
        }
      ],
      "source": [
        "regressor.intercept"
      ]
    },
    {
      "cell_type": "code",
      "execution_count": null,
      "id": "f4ae88be",
      "metadata": {
        "id": "f4ae88be"
      },
      "outputs": [],
      "source": [
        "pred_results=regressor.evaluate(test_data)"
      ]
    },
    {
      "cell_type": "code",
      "execution_count": null,
      "id": "d4783b44",
      "metadata": {
        "id": "d4783b44",
        "outputId": "6122ef76-0a22-4d88-aa7c-df61c4d74d67"
      },
      "outputs": [
        {
          "data": {
            "text/plain": [
              "<pyspark.ml.regression.LinearRegressionSummary at 0x1d8cffccee0>"
            ]
          },
          "execution_count": 126,
          "metadata": {},
          "output_type": "execute_result"
        }
      ],
      "source": [
        "pred_results"
      ]
    },
    {
      "cell_type": "code",
      "execution_count": null,
      "id": "161cfc0a",
      "metadata": {
        "id": "161cfc0a",
        "outputId": "14e6059e-ca43-45c4-ff0b-14f6f1c2730a"
      },
      "outputs": [
        {
          "name": "stdout",
          "output_type": "stream",
          "text": [
            "+--------------------+------+------------------+\n",
            "|Independent Features|Salary|        prediction|\n",
            "+--------------------+------+------------------+\n",
            "|          [29.0,4.0]| 20000|28280.701754385987|\n",
            "|          [30.0,8.0]| 25000|28859.649122807026|\n",
            "+--------------------+------+------------------+\n",
            "\n"
          ]
        }
      ],
      "source": [
        "pred_results.predictions.show()"
      ]
    },
    {
      "cell_type": "code",
      "execution_count": null,
      "id": "a6f05781",
      "metadata": {
        "id": "a6f05781"
      },
      "outputs": [],
      "source": []
    }
  ],
  "metadata": {
    "kernelspec": {
      "display_name": "Python 3 (ipykernel)",
      "language": "python",
      "name": "python3"
    },
    "language_info": {
      "codemirror_mode": {
        "name": "ipython",
        "version": 3
      },
      "file_extension": ".py",
      "mimetype": "text/x-python",
      "name": "python",
      "nbconvert_exporter": "python",
      "pygments_lexer": "ipython3",
      "version": "3.9.16"
    },
    "colab": {
      "provenance": []
    }
  },
  "nbformat": 4,
  "nbformat_minor": 5
}